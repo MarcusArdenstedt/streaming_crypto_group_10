{
 "cells": [
  {
   "cell_type": "markdown",
   "metadata": {},
   "source": [
    "# EDA with endpoint /v1/cryptocurrency/quotes/latest"
   ]
  },
  {
   "cell_type": "code",
   "execution_count": 2,
   "metadata": {},
   "outputs": [
    {
     "data": {
      "text/plain": [
       "{'status': {'timestamp': '2025-02-17T10:18:36.435Z',\n",
       "  'error_code': 0,\n",
       "  'error_message': None,\n",
       "  'elapsed': 180,\n",
       "  'credit_count': 1,\n",
       "  'notice': None},\n",
       " 'data': {'DOT': {'id': 6636,\n",
       "   'name': 'Polkadot',\n",
       "   'symbol': 'DOT',\n",
       "   'slug': 'polkadot-new',\n",
       "   'num_market_pairs': 865,\n",
       "   'date_added': '2020-08-19T00:00:00.000Z',\n",
       "   'tags': ['substrate',\n",
       "    'polkadot',\n",
       "    'polkadot-ecosystem',\n",
       "    'three-arrows-capital-portfolio',\n",
       "    'polychain-capital-portfolio',\n",
       "    'heco-ecosystem',\n",
       "    'arrington-xrp-capital-portfolio',\n",
       "    'blockchain-capital-portfolio',\n",
       "    'boostvc-portfolio',\n",
       "    'cms-holdings-portfolio',\n",
       "    'coinfund-portfolio',\n",
       "    'fabric-ventures-portfolio',\n",
       "    'fenbushi-capital-portfolio',\n",
       "    'hashkey-capital-portfolio',\n",
       "    'kenetic-capital-portfolio',\n",
       "    '1confirmation-portfolio',\n",
       "    'placeholder-ventures-portfolio',\n",
       "    'pantera-capital-portfolio',\n",
       "    'exnetwork-capital-portfolio',\n",
       "    'web3',\n",
       "    'spartan-group',\n",
       "    'osmosis-ecosystem',\n",
       "    'layer-1',\n",
       "    'made-in-america'],\n",
       "   'max_supply': None,\n",
       "   'circulating_supply': 1549476318.0175812,\n",
       "   'total_supply': 1549476318.0175812,\n",
       "   'is_active': 1,\n",
       "   'infinite_supply': True,\n",
       "   'platform': None,\n",
       "   'cmc_rank': 21,\n",
       "   'is_fiat': 0,\n",
       "   'self_reported_circulating_supply': None,\n",
       "   'self_reported_market_cap': None,\n",
       "   'tvl_ratio': None,\n",
       "   'last_updated': '2025-02-17T10:16:00.000Z',\n",
       "   'quote': {'USD': {'price': 4.960050967635638,\n",
       "     'volume_24h': 153062539.56614032,\n",
       "     'volume_change_24h': 15.581,\n",
       "     'percent_change_1h': 0.76135634,\n",
       "     'percent_change_24h': -0.53542828,\n",
       "     'percent_change_7d': 2.4548675,\n",
       "     'percent_change_30d': -28.98862221,\n",
       "     'percent_change_60d': -34.53910758,\n",
       "     'percent_change_90d': -14.15852653,\n",
       "     'market_cap': 7685481510.511609,\n",
       "     'market_cap_dominance': 0.2395,\n",
       "     'fully_diluted_market_cap': 7685481510.51,\n",
       "     'tvl': None,\n",
       "     'last_updated': '2025-02-17T10:16:00.000Z'}}}}}"
      ]
     },
     "execution_count": 2,
     "metadata": {},
     "output_type": "execute_result"
    }
   ],
   "source": [
    "\n",
    "from requests import Request, Session\n",
    "from requests.exceptions import ConnectionError, Timeout, TooManyRedirects\n",
    "from dotenv import load_dotenv\n",
    "import os\n",
    "import json\n",
    "\n",
    "\n",
    "load_dotenv()\n",
    "\n",
    "API_KEY = os.getenv(\"COINMARKETCAP_API\")\n",
    "\n",
    "tags = \"DOT\"\n",
    "\n",
    "url = \"https://pro-api.coinmarketcap.com/v1/cryptocurrency/quotes/latest\"\n",
    "parameters = {\n",
    "  'symbol': tags,\n",
    "  'convert':'USD'\n",
    "}\n",
    "headers = {\n",
    "  'Accepts': 'application/json',\n",
    "  'X-CMC_PRO_API_KEY': API_KEY,\n",
    "}\n",
    "\n",
    "session = Session()\n",
    "session.headers.update(headers)\n",
    "\n",
    "try:\n",
    "  response = session.get(url, params=parameters)\n",
    "  data = json.loads(response.text)\n",
    "\n",
    "except (ConnectionError, Timeout, TooManyRedirects) as e:\n",
    "  print(e)\n",
    "  \n",
    "data  "
   ]
  },
  {
   "cell_type": "code",
   "execution_count": 3,
   "metadata": {},
   "outputs": [
    {
     "data": {
      "text/plain": [
       "{'DOT': {'id': 6636,\n",
       "  'name': 'Polkadot',\n",
       "  'symbol': 'DOT',\n",
       "  'slug': 'polkadot-new',\n",
       "  'num_market_pairs': 865,\n",
       "  'date_added': '2020-08-19T00:00:00.000Z',\n",
       "  'tags': ['substrate',\n",
       "   'polkadot',\n",
       "   'polkadot-ecosystem',\n",
       "   'three-arrows-capital-portfolio',\n",
       "   'polychain-capital-portfolio',\n",
       "   'heco-ecosystem',\n",
       "   'arrington-xrp-capital-portfolio',\n",
       "   'blockchain-capital-portfolio',\n",
       "   'boostvc-portfolio',\n",
       "   'cms-holdings-portfolio',\n",
       "   'coinfund-portfolio',\n",
       "   'fabric-ventures-portfolio',\n",
       "   'fenbushi-capital-portfolio',\n",
       "   'hashkey-capital-portfolio',\n",
       "   'kenetic-capital-portfolio',\n",
       "   '1confirmation-portfolio',\n",
       "   'placeholder-ventures-portfolio',\n",
       "   'pantera-capital-portfolio',\n",
       "   'exnetwork-capital-portfolio',\n",
       "   'web3',\n",
       "   'spartan-group',\n",
       "   'osmosis-ecosystem',\n",
       "   'layer-1',\n",
       "   'made-in-america'],\n",
       "  'max_supply': None,\n",
       "  'circulating_supply': 1549476318.0175812,\n",
       "  'total_supply': 1549476318.0175812,\n",
       "  'is_active': 1,\n",
       "  'infinite_supply': True,\n",
       "  'platform': None,\n",
       "  'cmc_rank': 21,\n",
       "  'is_fiat': 0,\n",
       "  'self_reported_circulating_supply': None,\n",
       "  'self_reported_market_cap': None,\n",
       "  'tvl_ratio': None,\n",
       "  'last_updated': '2025-02-17T10:16:00.000Z',\n",
       "  'quote': {'USD': {'price': 4.960050967635638,\n",
       "    'volume_24h': 153062539.56614032,\n",
       "    'volume_change_24h': 15.581,\n",
       "    'percent_change_1h': 0.76135634,\n",
       "    'percent_change_24h': -0.53542828,\n",
       "    'percent_change_7d': 2.4548675,\n",
       "    'percent_change_30d': -28.98862221,\n",
       "    'percent_change_60d': -34.53910758,\n",
       "    'percent_change_90d': -14.15852653,\n",
       "    'market_cap': 7685481510.511609,\n",
       "    'market_cap_dominance': 0.2395,\n",
       "    'fully_diluted_market_cap': 7685481510.51,\n",
       "    'tvl': None,\n",
       "    'last_updated': '2025-02-17T10:16:00.000Z'}}}}"
      ]
     },
     "execution_count": 3,
     "metadata": {},
     "output_type": "execute_result"
    }
   ],
   "source": [
    "data[\"data\"]"
   ]
  },
  {
   "cell_type": "code",
   "execution_count": 4,
   "metadata": {},
   "outputs": [
    {
     "data": {
      "text/plain": [
       "dict_keys(['id', 'name', 'symbol', 'slug', 'num_market_pairs', 'date_added', 'tags', 'max_supply', 'circulating_supply', 'total_supply', 'is_active', 'infinite_supply', 'platform', 'cmc_rank', 'is_fiat', 'self_reported_circulating_supply', 'self_reported_market_cap', 'tvl_ratio', 'last_updated', 'quote'])"
      ]
     },
     "execution_count": 4,
     "metadata": {},
     "output_type": "execute_result"
    }
   ],
   "source": [
    "data[\"data\"][\"DOT\"].keys()"
   ]
  },
  {
   "cell_type": "code",
   "execution_count": 5,
   "metadata": {},
   "outputs": [
    {
     "data": {
      "text/plain": [
       "0"
      ]
     },
     "execution_count": 5,
     "metadata": {},
     "output_type": "execute_result"
    }
   ],
   "source": [
    "data[\"data\"][\"DOT\"][\"is_fiat\"]"
   ]
  },
  {
   "cell_type": "code",
   "execution_count": 6,
   "metadata": {},
   "outputs": [
    {
     "data": {
      "text/plain": [
       "21"
      ]
     },
     "execution_count": 6,
     "metadata": {},
     "output_type": "execute_result"
    }
   ],
   "source": [
    "data[\"data\"][\"DOT\"][\"cmc_rank\"]"
   ]
  },
  {
   "cell_type": "code",
   "execution_count": 7,
   "metadata": {},
   "outputs": [
    {
     "data": {
      "text/plain": [
       "{'USD': {'price': 4.960050967635638,\n",
       "  'volume_24h': 153062539.56614032,\n",
       "  'volume_change_24h': 15.581,\n",
       "  'percent_change_1h': 0.76135634,\n",
       "  'percent_change_24h': -0.53542828,\n",
       "  'percent_change_7d': 2.4548675,\n",
       "  'percent_change_30d': -28.98862221,\n",
       "  'percent_change_60d': -34.53910758,\n",
       "  'percent_change_90d': -14.15852653,\n",
       "  'market_cap': 7685481510.511609,\n",
       "  'market_cap_dominance': 0.2395,\n",
       "  'fully_diluted_market_cap': 7685481510.51,\n",
       "  'tvl': None,\n",
       "  'last_updated': '2025-02-17T10:16:00.000Z'}}"
      ]
     },
     "execution_count": 7,
     "metadata": {},
     "output_type": "execute_result"
    }
   ],
   "source": [
    "data[\"data\"][\"DOT\"][\"quote\"]"
   ]
  },
  {
   "cell_type": "code",
   "execution_count": 8,
   "metadata": {},
   "outputs": [
    {
     "data": {
      "text/plain": [
       "6636"
      ]
     },
     "execution_count": 8,
     "metadata": {},
     "output_type": "execute_result"
    }
   ],
   "source": [
    "data[\"data\"][\"DOT\"][\"id\"]\n"
   ]
  },
  {
   "cell_type": "code",
   "execution_count": 9,
   "metadata": {},
   "outputs": [
    {
     "data": {
      "text/plain": [
       "1549476318.0175812"
      ]
     },
     "execution_count": 9,
     "metadata": {},
     "output_type": "execute_result"
    }
   ],
   "source": [
    "data[\"data\"][\"DOT\"][\"circulating_supply\"]"
   ]
  },
  {
   "cell_type": "code",
   "execution_count": 10,
   "metadata": {},
   "outputs": [
    {
     "data": {
      "text/plain": [
       "1"
      ]
     },
     "execution_count": 10,
     "metadata": {},
     "output_type": "execute_result"
    }
   ],
   "source": [
    "data[\"data\"][\"DOT\"][\"is_active\"]"
   ]
  },
  {
   "cell_type": "code",
   "execution_count": 11,
   "metadata": {},
   "outputs": [],
   "source": [
    "data_quote = data[\"data\"][\"DOT\"][\"quote\"]"
   ]
  },
  {
   "cell_type": "code",
   "execution_count": 12,
   "metadata": {},
   "outputs": [],
   "source": [
    "data_quote_price = data_quote[\"USD\"][\"price\"]"
   ]
  },
  {
   "cell_type": "code",
   "execution_count": 13,
   "metadata": {},
   "outputs": [
    {
     "data": {
      "text/plain": [
       "-0.53542828"
      ]
     },
     "execution_count": 13,
     "metadata": {},
     "output_type": "execute_result"
    }
   ],
   "source": [
    "data_quote[\"USD\"][\"percent_change_24h\"]"
   ]
  },
  {
   "cell_type": "code",
   "execution_count": 14,
   "metadata": {},
   "outputs": [
    {
     "data": {
      "text/plain": [
       "{'USD': {'price': 4.960050967635638,\n",
       "  'volume_24h': 153062539.56614032,\n",
       "  'volume_change_24h': 15.581,\n",
       "  'percent_change_1h': 0.76135634,\n",
       "  'percent_change_24h': -0.53542828,\n",
       "  'percent_change_7d': 2.4548675,\n",
       "  'percent_change_30d': -28.98862221,\n",
       "  'percent_change_60d': -34.53910758,\n",
       "  'percent_change_90d': -14.15852653,\n",
       "  'market_cap': 7685481510.511609,\n",
       "  'market_cap_dominance': 0.2395,\n",
       "  'fully_diluted_market_cap': 7685481510.51,\n",
       "  'tvl': None,\n",
       "  'last_updated': '2025-02-17T10:16:00.000Z'}}"
      ]
     },
     "execution_count": 14,
     "metadata": {},
     "output_type": "execute_result"
    }
   ],
   "source": [
    "data_quote"
   ]
  },
  {
   "cell_type": "code",
   "execution_count": 15,
   "metadata": {},
   "outputs": [
    {
     "data": {
      "text/plain": [
       "0.01991580349998802"
      ]
     },
     "execution_count": 15,
     "metadata": {},
     "output_type": "execute_result"
    }
   ],
   "source": [
    "\n",
    "data_quote[\"USD\"][\"volume_24h\"] / data_quote[\"USD\"][\"market_cap\"]"
   ]
  },
  {
   "cell_type": "markdown",
   "metadata": {},
   "source": [
    "# EDA with endpoint: /v1/cryptocurrency/listings/latest"
   ]
  },
  {
   "cell_type": "code",
   "execution_count": 17,
   "metadata": {},
   "outputs": [
    {
     "data": {
      "text/plain": [
       "{'status': {'timestamp': '2025-02-17T10:21:15.011Z',\n",
       "  'error_code': 0,\n",
       "  'error_message': None,\n",
       "  'elapsed': 47,\n",
       "  'credit_count': 1,\n",
       "  'notice': None,\n",
       "  'total_count': 10869},\n",
       " 'data': [{'id': 1,\n",
       "   'name': 'Bitcoin',\n",
       "   'symbol': 'BTC',\n",
       "   'slug': 'bitcoin',\n",
       "   'num_market_pairs': 11945,\n",
       "   'date_added': '2010-07-13T00:00:00.000Z',\n",
       "   'tags': ['mineable',\n",
       "    'pow',\n",
       "    'sha-256',\n",
       "    'store-of-value',\n",
       "    'state-channel',\n",
       "    'coinbase-ventures-portfolio',\n",
       "    'three-arrows-capital-portfolio',\n",
       "    'polychain-capital-portfolio',\n",
       "    'binance-labs-portfolio',\n",
       "    'blockchain-capital-portfolio',\n",
       "    'boostvc-portfolio',\n",
       "    'cms-holdings-portfolio',\n",
       "    'dcg-portfolio',\n",
       "    'dragonfly-capital-portfolio',\n",
       "    'electric-capital-portfolio',\n",
       "    'fabric-ventures-portfolio',\n",
       "    'framework-ventures-portfolio',\n",
       "    'galaxy-digital-portfolio',\n",
       "    'huobi-capital-portfolio',\n",
       "    'alameda-research-portfolio',\n",
       "    'a16z-portfolio',\n",
       "    '1confirmation-portfolio',\n",
       "    'winklevoss-capital-portfolio',\n",
       "    'usv-portfolio',\n",
       "    'placeholder-ventures-portfolio',\n",
       "    'pantera-capital-portfolio',\n",
       "    'multicoin-capital-portfolio',\n",
       "    'paradigm-portfolio',\n",
       "    'bitcoin-ecosystem',\n",
       "    'ftx-bankruptcy-estate',\n",
       "    '2017-2018-alt-season'],\n",
       "   'max_supply': 21000000,\n",
       "   'circulating_supply': 19825500,\n",
       "   'total_supply': 19825500,\n",
       "   'infinite_supply': False,\n",
       "   'platform': None,\n",
       "   'cmc_rank': 1,\n",
       "   'self_reported_circulating_supply': None,\n",
       "   'self_reported_market_cap': None,\n",
       "   'tvl_ratio': None,\n",
       "   'last_updated': '2025-02-17T10:19:00.000Z',\n",
       "   'quote': {'SEK': {'price': 1032300.3546049742,\n",
       "     'volume_24h': 225431120395.77716,\n",
       "     'volume_change_24h': 32.2907,\n",
       "     'percent_change_1h': 0.11097443,\n",
       "     'percent_change_24h': -0.93918042,\n",
       "     'percent_change_7d': -1.52745617,\n",
       "     'percent_change_30d': -6.28034461,\n",
       "     'percent_change_60d': -5.53629694,\n",
       "     'percent_change_90d': 4.91364845,\n",
       "     'market_cap': 20465870680220.914,\n",
       "     'market_cap_dominance': 59.5182,\n",
       "     'fully_diluted_market_cap': 21678307446704.508,\n",
       "     'tvl': None,\n",
       "     'last_updated': '2025-02-17T10:19:04.000Z'}}},\n",
       "  {'id': 1027,\n",
       "   'name': 'Ethereum',\n",
       "   'symbol': 'ETH',\n",
       "   'slug': 'ethereum',\n",
       "   'num_market_pairs': 9931,\n",
       "   'date_added': '2015-08-07T00:00:00.000Z',\n",
       "   'tags': ['pos',\n",
       "    'smart-contracts',\n",
       "    'ethereum-ecosystem',\n",
       "    'coinbase-ventures-portfolio',\n",
       "    'three-arrows-capital-portfolio',\n",
       "    'polychain-capital-portfolio',\n",
       "    'heco-ecosystem',\n",
       "    'binance-labs-portfolio',\n",
       "    'avalanche-ecosystem',\n",
       "    'solana-ecosystem',\n",
       "    'blockchain-capital-portfolio',\n",
       "    'boostvc-portfolio',\n",
       "    'cms-holdings-portfolio',\n",
       "    'dcg-portfolio',\n",
       "    'dragonfly-capital-portfolio',\n",
       "    'electric-capital-portfolio',\n",
       "    'fabric-ventures-portfolio',\n",
       "    'framework-ventures-portfolio',\n",
       "    'hashkey-capital-portfolio',\n",
       "    'kenetic-capital-portfolio',\n",
       "    'huobi-capital-portfolio',\n",
       "    'alameda-research-portfolio',\n",
       "    'a16z-portfolio',\n",
       "    '1confirmation-portfolio',\n",
       "    'winklevoss-capital-portfolio',\n",
       "    'usv-portfolio',\n",
       "    'placeholder-ventures-portfolio',\n",
       "    'pantera-capital-portfolio',\n",
       "    'multicoin-capital-portfolio',\n",
       "    'paradigm-portfolio',\n",
       "    'tezos-ecosystem',\n",
       "    'near-protocol-ecosystem',\n",
       "    'velas-ecosystem',\n",
       "    'ethereum-pow-ecosystem',\n",
       "    'osmosis-ecosystem',\n",
       "    'layer-1',\n",
       "    'ftx-bankruptcy-estate',\n",
       "    'zksync-era-ecosystem',\n",
       "    'viction-ecosystem',\n",
       "    'klaytn-ecosystem',\n",
       "    'sora-ecosystem',\n",
       "    'rsk-rbtc-ecosystem',\n",
       "    'starknet-ecosystem'],\n",
       "   'max_supply': None,\n",
       "   'circulating_supply': 120555264.23101225,\n",
       "   'total_supply': 120555264.23101225,\n",
       "   'infinite_supply': True,\n",
       "   'platform': None,\n",
       "   'cmc_rank': 2,\n",
       "   'self_reported_circulating_supply': None,\n",
       "   'self_reported_market_cap': None,\n",
       "   'tvl_ratio': None,\n",
       "   'last_updated': '2025-02-17T10:20:00.000Z',\n",
       "   'quote': {'SEK': {'price': 29592.248022176067,\n",
       "     'volume_24h': 151287997436.636,\n",
       "     'volume_change_24h': 38.2794,\n",
       "     'percent_change_1h': 1.64487957,\n",
       "     'percent_change_24h': 2.08637786,\n",
       "     'percent_change_7d': 4.05600116,\n",
       "     'percent_change_30d': -14.87341178,\n",
       "     'percent_change_60d': -25.12845759,\n",
       "     'percent_change_90d': -11.34637738,\n",
       "     'market_cap': 3567501279503.0854,\n",
       "     'market_cap_dominance': 10.3773,\n",
       "     'fully_diluted_market_cap': 3567501279503.0366,\n",
       "     'tvl': None,\n",
       "     'last_updated': '2025-02-17T10:19:04.000Z'}}},\n",
       "  {'id': 52,\n",
       "   'name': 'XRP',\n",
       "   'symbol': 'XRP',\n",
       "   'slug': 'xrp',\n",
       "   'num_market_pairs': 1534,\n",
       "   'date_added': '2013-08-04T00:00:00.000Z',\n",
       "   'tags': ['medium-of-exchange',\n",
       "    'enterprise-solutions',\n",
       "    'xrp-ecosystem',\n",
       "    'arrington-xrp-capital-portfolio',\n",
       "    'galaxy-digital-portfolio',\n",
       "    'a16z-portfolio',\n",
       "    'pantera-capital-portfolio',\n",
       "    'ftx-bankruptcy-estate',\n",
       "    '2017-2018-alt-season',\n",
       "    'klaytn-ecosystem',\n",
       "    'made-in-america'],\n",
       "   'max_supply': 100000000000,\n",
       "   'circulating_supply': 57818864895,\n",
       "   'total_supply': 99986451428,\n",
       "   'infinite_supply': False,\n",
       "   'platform': None,\n",
       "   'cmc_rank': 3,\n",
       "   'self_reported_circulating_supply': None,\n",
       "   'self_reported_market_cap': None,\n",
       "   'tvl_ratio': None,\n",
       "   'last_updated': '2025-02-17T10:19:00.000Z',\n",
       "   'quote': {'SEK': {'price': 28.897111336557227,\n",
       "     'volume_24h': 44929740360.35159,\n",
       "     'volume_change_24h': 10.1204,\n",
       "     'percent_change_1h': 0.49194907,\n",
       "     'percent_change_24h': -2.06091143,\n",
       "     'percent_change_7d': 10.59921661,\n",
       "     'percent_change_30d': -13.37735375,\n",
       "     'percent_change_60d': 12.0230104,\n",
       "     'percent_change_90d': 146.20481812,\n",
       "     'market_cap': 1670798176224.1753,\n",
       "     'market_cap_dominance': 4.8601,\n",
       "     'fully_diluted_market_cap': 2889711133655.6924,\n",
       "     'tvl': None,\n",
       "     'last_updated': '2025-02-17T10:19:04.000Z'}}},\n",
       "  {'id': 825,\n",
       "   'name': 'Tether USDt',\n",
       "   'symbol': 'USDT',\n",
       "   'slug': 'tether',\n",
       "   'num_market_pairs': 116914,\n",
       "   'date_added': '2015-02-25T00:00:00.000Z',\n",
       "   'tags': ['stablecoin',\n",
       "    'asset-backed-stablecoin',\n",
       "    'ethereum-ecosystem',\n",
       "    'waves-ecosystem',\n",
       "    'bitcoin-cash-ecosystem',\n",
       "    'heco-ecosystem',\n",
       "    'algorand-ecosystem',\n",
       "    'avalanche-ecosystem',\n",
       "    'solana-ecosystem',\n",
       "    'polygon-ecosystem',\n",
       "    'fantom-ecosystem',\n",
       "    'terra-ecosystem',\n",
       "    'tezos-ecosystem',\n",
       "    'near-protocol-ecosystem',\n",
       "    'arbitrum-ecosystem',\n",
       "    'celo-ecosystem',\n",
       "    'iotex-ecosystem',\n",
       "    'zilliqa-ecosystem',\n",
       "    'harmony-ecosystem',\n",
       "    'moonriver-ecosystem',\n",
       "    'cronos-ecosystem',\n",
       "    'injective-ecosystem',\n",
       "    'oasis-ecosystem',\n",
       "    'moonbeam-ecosystem',\n",
       "    'usd-stablecoin',\n",
       "    'xdc-ecosystem',\n",
       "    'everscale-ecosystem',\n",
       "    'velas-ecosystem',\n",
       "    'doge-chain-ecosystem',\n",
       "    'ethereum-pow-ecosystem',\n",
       "    'aptos-ecosystem',\n",
       "    'sui-ecosystem',\n",
       "    'optimism-ecosystem',\n",
       "    'canto-ecosystem',\n",
       "    'osmosis-ecosystem',\n",
       "    'zksync-era-ecosystem',\n",
       "    'pulsechain-ecosystem',\n",
       "    'sei-ecosystem',\n",
       "    'toncoin-ecosystem',\n",
       "    'fiat-stablecoin',\n",
       "    'viction-ecosystem',\n",
       "    'gnosis-chain-ecosystem',\n",
       "    'klaytn-ecosystem',\n",
       "    'okexchain-ecosystem',\n",
       "    'conflux-ecosystem',\n",
       "    'kcc-ecosystem',\n",
       "    'tron20-ecosystem',\n",
       "    'kardiachain-ecosystem',\n",
       "    'rsk-rbtc-ecosystem',\n",
       "    'telos-ecosystem',\n",
       "    'boba-network-ecosystem',\n",
       "    'fusion-network-ecosystem',\n",
       "    'hoo-smart-chain-ecosystem',\n",
       "    'secret-ecosystem',\n",
       "    'aurora-ecosystem',\n",
       "    'metis-andromeda-ecosystem',\n",
       "    'meter-ecosystem',\n",
       "    'fuse-ecosystem',\n",
       "    'syscoin-ecosystem',\n",
       "    'milkomeda-ecosystem',\n",
       "    'bitgert-ecosystem',\n",
       "    'astar-ecosystem',\n",
       "    'cube-network-ecosystem',\n",
       "    'thundercore-ecosystem',\n",
       "    'redlight-chain-ecosystem',\n",
       "    'core-ecosystem',\n",
       "    'polygon-zkevm-ecosystem',\n",
       "    'eos-evm-ecosystem',\n",
       "    'starknet-ecosystem',\n",
       "    'mantle-ecosystem',\n",
       "    'neon-evm-ecosystem',\n",
       "    'manta-pacific-ecosystem',\n",
       "    'scroll-ecosystem',\n",
       "    'x-layer-ecosystem'],\n",
       "   'max_supply': None,\n",
       "   'circulating_supply': 141996505143.64334,\n",
       "   'total_supply': 143566824829.4212,\n",
       "   'platform': {'id': 1027,\n",
       "    'name': 'Ethereum',\n",
       "    'symbol': 'ETH',\n",
       "    'slug': 'ethereum',\n",
       "    'token_address': '0xdac17f958d2ee523a2206206994597c13d831ec7'},\n",
       "   'infinite_supply': True,\n",
       "   'cmc_rank': 4,\n",
       "   'self_reported_circulating_supply': None,\n",
       "   'self_reported_market_cap': None,\n",
       "   'tvl_ratio': None,\n",
       "   'last_updated': '2025-02-17T10:19:00.000Z',\n",
       "   'quote': {'SEK': {'price': 10.71353278960196,\n",
       "     'volume_24h': 591543604978.1312,\n",
       "     'volume_change_24h': 21.7701,\n",
       "     'percent_change_1h': 0.01652247,\n",
       "     'percent_change_24h': 0.00292654,\n",
       "     'percent_change_7d': -0.0129491,\n",
       "     'percent_change_30d': 0.0605821,\n",
       "     'percent_change_60d': 0.08225328,\n",
       "     'percent_change_90d': -0.06252006,\n",
       "     'market_cap': 1521284213865.3064,\n",
       "     'market_cap_dominance': 4.4242,\n",
       "     'fully_diluted_market_cap': 1538107885309.043,\n",
       "     'tvl': None,\n",
       "     'last_updated': '2025-02-17T10:19:04.000Z'}}},\n",
       "  {'id': 1839,\n",
       "   'name': 'BNB',\n",
       "   'symbol': 'BNB',\n",
       "   'slug': 'bnb',\n",
       "   'num_market_pairs': 2362,\n",
       "   'date_added': '2017-07-25T00:00:00.000Z',\n",
       "   'tags': ['marketplace',\n",
       "    'centralized-exchange',\n",
       "    'payments',\n",
       "    'smart-contracts',\n",
       "    'ethereum-ecosystem',\n",
       "    'alameda-research-portfolio',\n",
       "    'multicoin-capital-portfolio',\n",
       "    'bnb-chain-ecosystem',\n",
       "    'layer-1',\n",
       "    'alleged-sec-securities',\n",
       "    'celsius-bankruptcy-estate'],\n",
       "   'max_supply': None,\n",
       "   'circulating_supply': 142477425.63,\n",
       "   'total_supply': 142477425.63,\n",
       "   'infinite_supply': False,\n",
       "   'platform': None,\n",
       "   'cmc_rank': 5,\n",
       "   'self_reported_circulating_supply': None,\n",
       "   'self_reported_market_cap': None,\n",
       "   'tvl_ratio': None,\n",
       "   'last_updated': '2025-02-17T10:20:00.000Z',\n",
       "   'quote': {'SEK': {'price': 7209.323084123473,\n",
       "     'volume_24h': 22483937631.450684,\n",
       "     'volume_change_24h': 20.4172,\n",
       "     'percent_change_1h': 0.42751923,\n",
       "     'percent_change_24h': 1.61233548,\n",
       "     'percent_change_7d': 11.19473587,\n",
       "     'percent_change_30d': -3.76110972,\n",
       "     'percent_change_60d': -3.59385897,\n",
       "     'percent_change_90d': 9.07570244,\n",
       "     'market_cap': 1027165793560.8442,\n",
       "     'market_cap_dominance': 2.9872,\n",
       "     'fully_diluted_market_cap': 1027165793560.8135,\n",
       "     'tvl': None,\n",
       "     'last_updated': '2025-02-17T10:19:04.000Z'}}}]}"
      ]
     },
     "execution_count": 17,
     "metadata": {},
     "output_type": "execute_result"
    }
   ],
   "source": [
    "from requests import Request, Session\n",
    "from requests.exceptions import ConnectionError, Timeout, TooManyRedirects\n",
    "from dotenv import load_dotenv\n",
    "import os\n",
    "import json\n",
    "\n",
    "\n",
    "load_dotenv()\n",
    "\n",
    "API_KEY = os.getenv(\"COINMARKETCAP_API\")\n",
    "\n",
    "\n",
    "\n",
    "\n",
    "\n",
    "url = \"https://pro-api.coinmarketcap.com/v1/cryptocurrency/listings/latest\"\n",
    "parameters = {\n",
    "  'start': 1,\n",
    "  'limit': 5,\n",
    "  'convert':'SEK'\n",
    "}\n",
    "headers = {\n",
    "  'Accepts': 'application/json',\n",
    "  'X-CMC_PRO_API_KEY': API_KEY,\n",
    "}\n",
    "\n",
    "session = Session()\n",
    "session.headers.update(headers)\n",
    "\n",
    "try:\n",
    "  response = session.get(url, params=parameters)\n",
    "  data = json.loads(response.text)\n",
    "\n",
    "except (ConnectionError, Timeout, TooManyRedirects) as e:\n",
    "  print(e)\n",
    "  \n",
    "data"
   ]
  },
  {
   "cell_type": "code",
   "execution_count": null,
   "metadata": {},
   "outputs": [],
   "source": [
    "data[\"data\"]"
   ]
  },
  {
   "cell_type": "code",
   "execution_count": 24,
   "metadata": {},
   "outputs": [
    {
     "name": "stdout",
     "output_type": "stream",
     "text": [
      "Name: Bitcoin              Symbol: BTC             Price_sek: 1032300.3546049742             Update: 2025-02-17T10:19:04.000Z\n",
      "Name: Ethereum             Symbol: ETH             Price_sek: 29592.248022176067             Update: 2025-02-17T10:19:04.000Z\n",
      "Name: XRP                  Symbol: XRP             Price_sek: 28.897111336557227             Update: 2025-02-17T10:19:04.000Z\n",
      "Name: Tether USDt          Symbol: USDT            Price_sek: 10.71353278960196              Update: 2025-02-17T10:19:04.000Z\n",
      "Name: BNB                  Symbol: BNB             Price_sek: 7209.323084123473              Update: 2025-02-17T10:19:04.000Z\n"
     ]
    }
   ],
   "source": [
    "for info in data[\"data\"]:\n",
    "    print(f'Name: {info[\"name\"]:<20} Symbol: {info[\"symbol\"]:<15} Price_sek: {info[\"quote\"][\"SEK\"][\"price\"]:<30} Update: {info[\"quote\"][\"SEK\"][\"last_updated\"]}')\n",
    "    "
   ]
  },
  {
   "cell_type": "code",
   "execution_count": null,
   "metadata": {},
   "outputs": [],
   "source": [
    "data[\"status\"]"
   ]
  },
  {
   "cell_type": "code",
   "execution_count": 21,
   "metadata": {},
   "outputs": [
    {
     "name": "stdout",
     "output_type": "stream",
     "text": [
      "{'price': 1032300.3546049742, 'volume_24h': 225431120395.77716, 'volume_change_24h': 32.2907, 'percent_change_1h': 0.11097443, 'percent_change_24h': -0.93918042, 'percent_change_7d': -1.52745617, 'percent_change_30d': -6.28034461, 'percent_change_60d': -5.53629694, 'percent_change_90d': 4.91364845, 'market_cap': 20465870680220.914, 'market_cap_dominance': 59.5182, 'fully_diluted_market_cap': 21678307446704.508, 'tvl': None, 'last_updated': '2025-02-17T10:19:04.000Z'}\n",
      "{'price': 29592.248022176067, 'volume_24h': 151287997436.636, 'volume_change_24h': 38.2794, 'percent_change_1h': 1.64487957, 'percent_change_24h': 2.08637786, 'percent_change_7d': 4.05600116, 'percent_change_30d': -14.87341178, 'percent_change_60d': -25.12845759, 'percent_change_90d': -11.34637738, 'market_cap': 3567501279503.0854, 'market_cap_dominance': 10.3773, 'fully_diluted_market_cap': 3567501279503.0366, 'tvl': None, 'last_updated': '2025-02-17T10:19:04.000Z'}\n",
      "{'price': 28.897111336557227, 'volume_24h': 44929740360.35159, 'volume_change_24h': 10.1204, 'percent_change_1h': 0.49194907, 'percent_change_24h': -2.06091143, 'percent_change_7d': 10.59921661, 'percent_change_30d': -13.37735375, 'percent_change_60d': 12.0230104, 'percent_change_90d': 146.20481812, 'market_cap': 1670798176224.1753, 'market_cap_dominance': 4.8601, 'fully_diluted_market_cap': 2889711133655.6924, 'tvl': None, 'last_updated': '2025-02-17T10:19:04.000Z'}\n",
      "{'price': 10.71353278960196, 'volume_24h': 591543604978.1312, 'volume_change_24h': 21.7701, 'percent_change_1h': 0.01652247, 'percent_change_24h': 0.00292654, 'percent_change_7d': -0.0129491, 'percent_change_30d': 0.0605821, 'percent_change_60d': 0.08225328, 'percent_change_90d': -0.06252006, 'market_cap': 1521284213865.3064, 'market_cap_dominance': 4.4242, 'fully_diluted_market_cap': 1538107885309.043, 'tvl': None, 'last_updated': '2025-02-17T10:19:04.000Z'}\n",
      "{'price': 7209.323084123473, 'volume_24h': 22483937631.450684, 'volume_change_24h': 20.4172, 'percent_change_1h': 0.42751923, 'percent_change_24h': 1.61233548, 'percent_change_7d': 11.19473587, 'percent_change_30d': -3.76110972, 'percent_change_60d': -3.59385897, 'percent_change_90d': 9.07570244, 'market_cap': 1027165793560.8442, 'market_cap_dominance': 2.9872, 'fully_diluted_market_cap': 1027165793560.8135, 'tvl': None, 'last_updated': '2025-02-17T10:19:04.000Z'}\n"
     ]
    }
   ],
   "source": [
    "for quote in data[\"data\"]:\n",
    "    print(quote[\"quote\"][\"SEK\"])"
   ]
  },
  {
   "cell_type": "code",
   "execution_count": null,
   "metadata": {},
   "outputs": [
    {
     "data": {
      "text/plain": [
       "{'SEK': {'price': 28.897111336557227,\n",
       "  'volume_24h': 44929740360.35159,\n",
       "  'volume_change_24h': 10.1204,\n",
       "  'percent_change_1h': 0.49194907,\n",
       "  'percent_change_24h': -2.06091143,\n",
       "  'percent_change_7d': 10.59921661,\n",
       "  'percent_change_30d': -13.37735375,\n",
       "  'percent_change_60d': 12.0230104,\n",
       "  'percent_change_90d': 146.20481812,\n",
       "  'market_cap': 1670798176224.1753,\n",
       "  'market_cap_dominance': 4.8601,\n",
       "  'fully_diluted_market_cap': 2889711133655.6924,\n",
       "  'tvl': None,\n",
       "  'last_updated': '2025-02-17T10:19:04.000Z'}}"
      ]
     },
     "execution_count": 20,
     "metadata": {},
     "output_type": "execute_result"
    }
   ],
   "source": [
    "data[\"data\"][2][\"quote\"][\"SEK\"]"
   ]
  }
 ],
 "metadata": {
  "kernelspec": {
   "display_name": ".venv",
   "language": "python",
   "name": "python3"
  },
  "language_info": {
   "codemirror_mode": {
    "name": "ipython",
    "version": 3
   },
   "file_extension": ".py",
   "mimetype": "text/x-python",
   "name": "python",
   "nbconvert_exporter": "python",
   "pygments_lexer": "ipython3",
   "version": "3.12.5"
  }
 },
 "nbformat": 4,
 "nbformat_minor": 2
}
